{
 "cells": [
  {
   "cell_type": "code",
   "execution_count": 96,
   "metadata": {},
   "outputs": [],
   "source": [
    "from pyrsistent import pmap, plist, PRecord, field, PMap, PClass\n",
    "import torch"
   ]
  },
  {
   "cell_type": "code",
   "execution_count": 97,
   "metadata": {},
   "outputs": [],
   "source": [
    "class Env(PClass):\n",
    "    local_map = field()\n",
    "    outer = field()\n",
    "    \n",
    "    def find(self, var):\n",
    "        \"Find the innermost Env where var appears.\"\n",
    "        return self.local_map if (var in self.local_map) else self.outer.find(var)"
   ]
  },
  {
   "cell_type": "code",
   "execution_count": 103,
   "metadata": {},
   "outputs": [
    {
     "data": {
      "text/plain": [
       "2"
      ]
     },
     "execution_count": 103,
     "metadata": {},
     "output_type": "execute_result"
    }
   ],
   "source": [
    "my_map = pmap({'a':1})\n",
    "outer_env = Env(local_map = pmap({'b':2}), outer=None)\n",
    "env = Env(local_map = my_map, outer=outer_env)\n",
    "env.find('b')['b']"
   ]
  },
  {
   "cell_type": "code",
   "execution_count": 52,
   "metadata": {},
   "outputs": [
    {
     "data": {
      "text/plain": [
       "pmap({'a': 1})"
      ]
     },
     "execution_count": 52,
     "metadata": {},
     "output_type": "execute_result"
    }
   ],
   "source": [
    "my_map = pmap()\n",
    "my_map.update({'a':1})"
   ]
  },
  {
   "cell_type": "code",
   "execution_count": 4,
   "metadata": {},
   "outputs": [],
   "source": [
    "class Env(PRecord):\n",
    "    x = field()\n",
    "#     \"An environment: a dict of {'var': val} pairs, with an outer Env.\"\n",
    "#     def __init__(self, parms=(), args=(), outer=None):\n",
    "#         self.update(zip(parms, args))\n",
    "#         self.outer = outer\n",
    "\n",
    "#     def find(self, var):\n",
    "#         \"Find the innermost Env where var appears.\"\n",
    "#         return self if (var in self) else self.outer.find(var)"
   ]
  },
  {
   "cell_type": "code",
   "execution_count": 8,
   "metadata": {},
   "outputs": [],
   "source": [
    "r = Env(x=3)"
   ]
  },
  {
   "cell_type": "code",
   "execution_count": 9,
   "metadata": {},
   "outputs": [
    {
     "data": {
      "text/plain": [
       "3"
      ]
     },
     "execution_count": 9,
     "metadata": {},
     "output_type": "execute_result"
    }
   ],
   "source": [
    "r.x"
   ]
  },
  {
   "cell_type": "code",
   "execution_count": 15,
   "metadata": {},
   "outputs": [
    {
     "data": {
      "text/plain": [
       "'9aec6806794561107e594b1f6a8a6b0c92a0cba9acf5e5e93cca06f781813b0b'"
      ]
     },
     "execution_count": 15,
     "metadata": {},
     "output_type": "execute_result"
    }
   ],
   "source": [
    "import hashlib\n",
    "m = hashlib.blake2s(b'hello world').hexdigest()\n",
    "m"
   ]
  },
  {
   "cell_type": "code",
   "execution_count": 17,
   "metadata": {},
   "outputs": [
    {
     "data": {
      "text/plain": [
       "'helloworld'"
      ]
     },
     "execution_count": 17,
     "metadata": {},
     "output_type": "execute_result"
    }
   ],
   "source": [
    "x = ['hello', 'world']\n",
    "''.join(x)"
   ]
  },
  {
   "cell_type": "code",
   "execution_count": 21,
   "metadata": {},
   "outputs": [
    {
     "data": {
      "text/plain": [
       "'cd6f01e2d7d750b0d323a1fe0f27e10f81baa1a833323a2a6382b58d633eeece'"
      ]
     },
     "execution_count": 21,
     "metadata": {},
     "output_type": "execute_result"
    }
   ],
   "source": [
    "hashlib.blake2s(b'alpha').hexdigest()"
   ]
  },
  {
   "cell_type": "code",
   "execution_count": null,
   "metadata": {},
   "outputs": [],
   "source": []
  }
 ],
 "metadata": {
  "kernelspec": {
   "display_name": "cpsc532w",
   "language": "python",
   "name": "cpsc532w"
  },
  "language_info": {
   "codemirror_mode": {
    "name": "ipython",
    "version": 3
   },
   "file_extension": ".py",
   "mimetype": "text/x-python",
   "name": "python",
   "nbconvert_exporter": "python",
   "pygments_lexer": "ipython3",
   "version": "3.8.11"
  }
 },
 "nbformat": 4,
 "nbformat_minor": 4
}
